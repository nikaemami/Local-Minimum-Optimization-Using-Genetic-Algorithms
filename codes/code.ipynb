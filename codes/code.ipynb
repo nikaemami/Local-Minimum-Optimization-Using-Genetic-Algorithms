{
 "cells": [
  {
   "cell_type": "markdown",
   "metadata": {},
   "source": [
    "**Part 2, Newton Method:**"
   ]
  },
  {
   "cell_type": "code",
   "execution_count": 78,
   "metadata": {},
   "outputs": [],
   "source": [
    "import numpy as np\n",
    "import matplotlib.pyplot as plt"
   ]
  },
  {
   "cell_type": "markdown",
   "metadata": {},
   "source": [
    "Newthond method implementation for finding the local minima:"
   ]
  },
  {
   "cell_type": "code",
   "execution_count": 25,
   "metadata": {},
   "outputs": [],
   "source": [
    "def function (x1, x2):\n",
    "    f = (2 * (x1 ** 2)) + (2 * (x2 ** 2)) - (17 * x2 * np.cos(0.2 * np.pi * x1)) - (x1 * x2)\n",
    "    return f\n",
    "\n",
    "def gradient_calc (x1, x2):\n",
    "    dx1 = (4 * x1) - x2 + (3.4 * np.pi * x2 * np.sin(0.2 * np.pi * x1))\n",
    "    dx2 = (4 * x2) - x1 - (17 * np.cos(0.2 * np.pi * x1))\n",
    "    gradient = np.array([[dx1],[dx2]])\n",
    "    return gradient\n",
    "\n",
    "def Hessian_calc (x1, x2):\n",
    "    d2x1 = (4) + (0.68 * (np.pi ** 2) * x2 * np.cos(0.2 * np.pi * x1))\n",
    "    dx1dx2 = -1 + (3.4 * np.pi * np.sin(0.2 * np.pi * x1))\n",
    "    dx2dx1 = -1 + (3.4 * np.pi * np.sin(0.2 * np.pi * x1))\n",
    "    d2x2 = 4\n",
    "    Hessian = np.array(([d2x1, dx1dx2],[dx2dx1, d2x2]),dtype='float')\n",
    "    return Hessian\n",
    "\n",
    "def find_local_min (x1, x2, num_epochs):\n",
    "    function_values = []\n",
    "    x = np.array([[x1],[x2]])\n",
    "    for i in range(num_epochs):\n",
    "        Hessian_Inv = np.linalg.inv(Hessian_calc(x1, x2))\n",
    "        gradient = gradient_calc(x1, x2)\n",
    "        x = x - np.dot(Hessian_Inv, gradient)\n",
    "        x1 = x[0][0]\n",
    "        x2 = x[1][0]\n",
    "        function_values.append(function(x1,x2))\n",
    "    return min(function_values)"
   ]
  },
  {
   "cell_type": "markdown",
   "metadata": {},
   "source": [
    "with the start point of (1,3):"
   ]
  },
  {
   "cell_type": "code",
   "execution_count": 52,
   "metadata": {},
   "outputs": [
    {
     "name": "stdout",
     "output_type": "stream",
     "text": [
      "local minimum of the function:  -36.40349774185023\n"
     ]
    }
   ],
   "source": [
    "x1 = 1\n",
    "x2 = 3\n",
    "num_epochs = 20\n",
    "print('local minimum of the function: ', find_local_min (x1, x2, num_epochs))"
   ]
  },
  {
   "cell_type": "markdown",
   "metadata": {},
   "source": [
    "for the points in x1 and x2 intervals with step size = 0.5:"
   ]
  },
  {
   "cell_type": "code",
   "execution_count": 77,
   "metadata": {},
   "outputs": [
    {
     "data": {
      "image/png": "[encoded data removed]",
      "text/plain": [
       "<Figure size 432x288 with 1 Axes>"
      ]
     },
     "metadata": {
      "needs_background": "light"
     },
     "output_type": "display_data"
    }
   ],
   "source": [
    "x1 = np.arange(-4.5, 5, 0.5)\n",
    "x2 = np.arange(0.5, 10, 0.5)\n",
    "\n",
    "num_epochs = 20\n",
    "min_values = []\n",
    "\n",
    "for x in x1:\n",
    "    for y in x2:\n",
    "        minimum = find_local_min (x, y, num_epochs)\n",
    "        distance = np.abs(-36.4 - minimum)\n",
    "        if (distance <= 10):\n",
    "            close = plt.scatter(x, y, color = 'g', label = 'colse')\n",
    "        elif (distance <= 40):\n",
    "            far = plt.scatter(x, y, color = 'y', label = 'far')\n",
    "        else:\n",
    "            farther = plt.scatter(x, y, color = 'r', label = 'farther')\n",
    "\n",
    "plt.xlim(-5, 5)\n",
    "plt.ylim(0, 10)\n",
    "plt.xlabel('x1')\n",
    "plt.ylabel('x2')\n",
    "plt.title('Distance')\n",
    "plt.legend(framealpha=1, frameon=True)\n",
    "plt.legend((close, far, farther),('Close', 'Far', 'Farther'))\n",
    "plt.show()\n"
   ]
  },
  {
   "cell_type": "markdown",
   "metadata": {},
   "source": [
    "**Part 3, Genetic Algorithm:**"
   ]
  },
  {
   "cell_type": "code",
   "execution_count": 86,
   "metadata": {},
   "outputs": [],
   "source": [
    "from numpy.random import randint\n",
    "from numpy.random import rand"
   ]
  },
  {
   "cell_type": "markdown",
   "metadata": {},
   "source": [
    "First, I define the previous objective function as below:"
   ]
  },
  {
   "cell_type": "code",
   "execution_count": 87,
   "metadata": {},
   "outputs": [],
   "source": [
    "def objective (x):\n",
    "\tx1 = x[0]\n",
    "\tx2 = x[1]\n",
    "\tf = (2 * (x1 ** 2)) + (2 * (x2 ** 2)) - (17 * x2 * np.cos(0.2 * np.pi * x1)) - (x1 * x2)\n",
    "\treturn f"
   ]
  },
  {
   "cell_type": "markdown",
   "metadata": {},
   "source": [
    "Then, the selection, crossover, and mutation steps are defined in seperate functions as below.\n",
    "\n",
    "The selection procedure takes the population and returns one selected parent.\n",
    "\n",
    "The crossover function uses crossover_rate to determine if crossover is performed, then selecting a valid split point if crossover is to be performed.\n",
    "\n",
    "The mutation procedure simply flips bits with a low probability controlled by the mutation_rate.\n"
   ]
  },
  {
   "cell_type": "code",
   "execution_count": 88,
   "metadata": {},
   "outputs": [],
   "source": [
    "def selection(pop, scores, k=3):\n",
    "\trandom_selection = randint(len(pop))\n",
    "\tfor individual in randint(0, len(pop), k-1):\n",
    "\t\tif scores[individual] < scores[random_selection]:\n",
    "\t\t\trandom_selection = individual\n",
    "\treturn pop[random_selection]\n",
    " \n",
    "\n",
    "def crossover(parent1, parent2, crossover_rate):\n",
    "\tchild1, child2 = parent1.copy(), parent2.copy()\n",
    "\tif rand() < crossover_rate:\n",
    "\t\tcrossover_point = randint(1, len(parent1)-2)\n",
    "\t\tchild1 = parent1[:crossover_point] + parent2[crossover_point:]\n",
    "\t\tchild2 = parent2[:crossover_point] + parent1[crossover_point:]\n",
    "\treturn [child1, child2]\n",
    " \n",
    "def mutation(bitstring, mutation_rate):\n",
    "\tfor i in range(len(bitstring)):\n",
    "\t\tif rand() < mutation_rate:\n",
    "\t\t\tbitstring[i] = 1 - bitstring[i]"
   ]
  },
  {
   "cell_type": "markdown",
   "metadata": {},
   "source": [
    "Then, I decode the bitstrings to numbers prior to evaluating each with the objective function.\n",
    "\n",
    "First, I take the bounds of the function, the number of bits per variable, and a bitstring as input.\n",
    "Then, I decode each substring to an integer, scale the integer to the desired range, and return a list of decoded real values."
   ]
  },
  {
   "cell_type": "code",
   "execution_count": 89,
   "metadata": {},
   "outputs": [],
   "source": [
    "def decode(bounds, num_bits, string_of_bits):\n",
    "\tdecoded = list()\n",
    "\tlargest = 2 ** num_bits\n",
    "\tfor i in range(len(bounds)):\n",
    "\t\tstart, end = i * num_bits, (i * num_bits) + num_bits\n",
    "\t\tsubstring = string_of_bits[start:end]\n",
    "\t\tchars = ''.join([str(s) for s in substring])\n",
    "\t\tinteger = int(chars, 2)\n",
    "\t\tvalue = bounds[i][0] + (integer/largest) * (bounds[i][1] - bounds[i][0])\n",
    "\t\tdecoded.append(value)\n",
    "\treturn decoded"
   ]
  },
  {
   "cell_type": "markdown",
   "metadata": {},
   "source": [
    "Finally, the genetic algorithm function is implemented as below:"
   ]
  },
  {
   "cell_type": "code",
   "execution_count": 90,
   "metadata": {},
   "outputs": [],
   "source": [
    "def genetic_algorithm(objective, bounds, n_bits, n_iter, population_size, crossover_rate, mutation_rate):\n",
    "\tpopulation = [randint(0, 2, n_bits * len(bounds)).tolist() for _ in range(population_size)]\n",
    "\tbest, best_eval = 0, objective(decode(bounds, n_bits, population[0]))\n",
    "\n",
    "\tfor gen in range(n_iter):\n",
    "\t\tdecoded = [decode(bounds, n_bits, individual) for individual in population]\n",
    "\t\tscores = [objective(d) for d in decoded]\n",
    "\n",
    "\t\tfor individual in range(population_size):\n",
    "\t\t\tif scores[individual] < best_eval:\n",
    "\t\t\t\tbest, best_eval = population[individual], scores[individual]\n",
    "\t\t\t\tprint(\">%d, new best f(%s) = %f\" % (gen,  decoded[individual], scores[individual]))\n",
    "\n",
    "\t\tselected = [selection(population, scores) for _ in range(population_size)]\n",
    "\n",
    "\t\tchildren = list()\n",
    "\t\tfor i in range(0, population_size, 2):\n",
    "\t\t\tparent1, parent2 = selected[i], selected[i+1]\n",
    "\t\t\tfor child in crossover(parent1, parent2, crossover_rate):\n",
    "\t\t\t\tmutation(child, mutation_rate)\n",
    "\t\t\t\tchildren.append(child)\n",
    "\n",
    "\t\tpopulation = children\n",
    "\treturn [best, best_eval]"
   ]
  },
  {
   "cell_type": "code",
   "execution_count": 91,
   "metadata": {},
   "outputs": [
    {
     "name": "stdout",
     "output_type": "stream",
     "text": [
      ">0, new best f([-1.50238037109375, 0.51361083984375]) = 0.691916\n",
      ">0, new best f([0.28656005859375, 0.400543212890625]) = -6.328837\n",
      ">1, new best f([-4.2828369140625, -6.276397705078125]) = -7.457475\n",
      ">1, new best f([-0.46875, 1.45294189453125]) = -18.293838\n",
      ">1, new best f([0.28656005859375, 4.685211181640625]) = -35.636989\n",
      ">2, new best f([0.28656005859375, 4.59503173828125]) = -35.776654\n",
      ">2, new best f([0.27191162109375, 4.216461181640625]) = -36.077803\n",
      ">8, new best f([0.08148193359375, 4.537811279296875]) = -36.214723\n",
      ">9, new best f([0.05218505859375, 4.45220947265625]) = -36.229432\n",
      ">10, new best f([0.08148193359375, 4.069061279296875]) = -36.287163\n",
      ">10, new best f([0.144195556640625, 4.20684814453125]) = -36.392980\n",
      ">13, new best f([0.11077880859375, 4.27093505859375]) = -36.396900\n",
      ">14, new best f([0.14373779296875, 4.246673583984375]) = -36.399843\n",
      ">16, new best f([0.125885009765625, 4.26361083984375]) = -36.403051\n",
      ">17, new best f([0.125885009765625, 4.27093505859375]) = -36.403077\n",
      ">20, new best f([0.13275146484375, 4.27459716796875]) = -36.403364\n",
      ">26, new best f([0.13275146484375, 4.274139404296875]) = -36.403375\n",
      ">28, new best f([0.1318359375, 4.27459716796875]) = -36.403406\n",
      ">29, new best f([0.1318359375, 4.26727294921875]) = -36.403480\n",
      ">35, new best f([0.13092041015625, 4.2681884765625]) = -36.403498\n",
      "Done!\n",
      "f([0.13092041015625, 4.2681884765625]) = -36.403498\n"
     ]
    }
   ],
   "source": [
    "# define range for input\n",
    "bounds = [[-15.0, 15.0], [-15.0, 15.0]]\n",
    "\n",
    "# bits per variable\n",
    "n_bits = 16\n",
    "\n",
    "# define the population size\n",
    "n_pop = 100\n",
    "\n",
    "# define the total iterations\n",
    "n_iter = 100\n",
    "\n",
    "# crossover rate\n",
    "r_cross = 0.9\n",
    "\n",
    "# mutation rate\n",
    "r_mut = 1.0 / (float(n_bits) * len(bounds))\n",
    "\n",
    "best, score = genetic_algorithm(objective, bounds, n_bits, n_iter, n_pop, r_cross, r_mut)\n",
    "print('Done!')\n",
    "decoded = decode(bounds, n_bits, best)\n",
    "print('f(%s) = %f' % (decoded, score))"
   ]
  },
  {
   "cell_type": "markdown",
   "metadata": {},
   "source": [
    "Checking the algorithm for different crossover and mutation rates and checking convergence:"
   ]
  },
  {
   "cell_type": "code",
   "execution_count": 95,
   "metadata": {},
   "outputs": [
    {
     "name": "stdout",
     "output_type": "stream",
     "text": [
      ">0, new best f([-1.6314697265625, 1.7779541015625]) = -1.141436\n",
      ">0, new best f([-5.0885009765625, -5.65338134765625]) = -9.019044\n",
      ">0, new best f([-0.390472412109375, 0.941619873046875]) = -13.082275\n",
      ">1, new best f([-0.618896484375, 2.560272216796875]) = -24.814496\n",
      ">3, new best f([-0.010528564453125, 2.86376953125]) = -32.250292\n",
      ">9, new best f([-0.159759521484375, 3.973388671875]) = -34.946116\n",
      ">13, new best f([0.00274658203125, 3.817291259765625]) = -35.760899\n",
      ">53, new best f([0.125885009765625, 4.75799560546875]) = -35.923261\n",
      ">85, new best f([0.28839111328125, 4.26177978515625]) = -36.001279\n",
      ">95, new best f([0.12542724609375, 4.00634765625]) = -36.265917\n",
      "Done!\n",
      "f([0.12542724609375, 4.00634765625]) = -36.265917\n"
     ]
    }
   ],
   "source": [
    "# crossover rate\n",
    "r_cross = 0.1\n",
    "\n",
    "# mutation rate\n",
    "r_mut = 10.0 / (float(n_bits) * len(bounds))\n",
    "\n",
    "best, score = genetic_algorithm(objective, bounds, n_bits, n_iter, n_pop, r_cross, r_mut)\n",
    "print('Done!')\n",
    "decoded = decode(bounds, n_bits, best)\n",
    "print('f(%s) = %f' % (decoded, score))"
   ]
  },
  {
   "cell_type": "code",
   "execution_count": 96,
   "metadata": {},
   "outputs": [
    {
     "name": "stdout",
     "output_type": "stream",
     "text": [
      ">0, new best f([-6.69525146484375, -3.7738037109375]) = 61.795067\n",
      ">0, new best f([-5.4290771484375, -0.207366943359375]) = 54.512048\n",
      ">0, new best f([-2.384033203125, -3.809051513671875]) = 36.018128\n",
      ">0, new best f([-4.831695556640625, -1.56829833984375]) = 17.520005\n",
      ">0, new best f([-5.185089111328125, -5.3118896484375]) = -7.032146\n",
      ">0, new best f([-0.581817626953125, 2.640380859375]) = -25.763969\n",
      ">0, new best f([-0.471038818359375, 3.080291748046875]) = -29.217143\n",
      ">2, new best f([0.209197998046875, 2.640380859375]) = -31.020888\n",
      "Done!\n",
      "f([0.209197998046875, 2.640380859375]) = -31.020888\n"
     ]
    }
   ],
   "source": [
    "# crossover rate\n",
    "r_cross = 0.01\n",
    "\n",
    "# mutation rate\n",
    "r_mut = 100.0 / (float(n_bits) * len(bounds))\n",
    "\n",
    "best, score = genetic_algorithm(objective, bounds, n_bits, n_iter, n_pop, r_cross, r_mut)\n",
    "print('Done!')\n",
    "decoded = decode(bounds, n_bits, best)\n",
    "print('f(%s) = %f' % (decoded, score))"
   ]
  },
  {
   "cell_type": "code",
   "execution_count": 97,
   "metadata": {},
   "outputs": [
    {
     "name": "stdout",
     "output_type": "stream",
     "text": [
      ">0, new best f([-2.55615234375, -2.397308349609375]) = 16.996544\n",
      ">0, new best f([0.06500244140625, 6.9708251953125]) = -21.665067\n",
      ">1, new best f([0.06500244140625, 6.9671630859375]) = -21.704710\n",
      ">2, new best f([0.06500244140625, 6.8499755859375]) = -22.944958\n",
      ">3, new best f([0.53375244140625, 5.5645751953125]) = -29.799039\n",
      ">3, new best f([0.53375244140625, 5.096282958984375]) = -32.016421\n",
      ">3, new best f([0.53375244140625, 3.6895751953125]) = -33.402082\n",
      ">4, new best f([0.0640869140625, 5.0042724609375]) = -35.230680\n",
      ">5, new best f([0.014190673828125, 3.6859130859375]) = -35.538024\n",
      ">5, new best f([0.06500244140625, 3.6895751953125]) = -35.675923\n",
      ">7, new best f([0.0640869140625, 4.0667724609375]) = -36.254227\n",
      ">8, new best f([0.0787353515625, 4.0667724609375]) = -36.281073\n",
      ">9, new best f([0.062255859375, 4.15283203125]) = -36.302899\n",
      ">10, new best f([0.062255859375, 4.153289794921875]) = -36.303099\n",
      ">10, new best f([0.0604248046875, 4.18212890625]) = -36.309955\n",
      ">11, new best f([0.1153564453125, 4.0667724609375]) = -36.318851\n",
      ">11, new best f([0.0787353515625, 4.1839599609375]) = -36.346285\n",
      ">13, new best f([0.0787353515625, 4.21142578125]) = -36.353623\n",
      ">15, new best f([0.1043701171875, 4.185791015625]) = -36.378888\n",
      ">17, new best f([0.104827880859375, 4.185791015625]) = -36.379269\n",
      ">17, new best f([0.152435302734375, 4.18487548828125]) = -36.381905\n",
      ">19, new best f([0.1153564453125, 4.175262451171875]) = -36.382496\n",
      ">19, new best f([0.152435302734375, 4.18853759765625]) = -36.383105\n",
      ">19, new best f([0.1226806640625, 4.18212890625]) = -36.387640\n",
      ">20, new best f([0.132293701171875, 4.18487548828125]) = -36.389512\n",
      ">20, new best f([0.1226806640625, 4.21142578125]) = -36.395992\n",
      ">23, new best f([0.1373291015625, 4.213714599609375]) = -36.396812\n",
      ">24, new best f([0.135955810546875, 4.21417236328125]) = -36.397176\n",
      ">28, new best f([0.1263427734375, 4.215087890625]) = -36.397521\n",
      ">30, new best f([0.1300048828125, 4.215087890625]) = -36.397816\n",
      ">32, new best f([0.1300048828125, 4.21600341796875]) = -36.398009\n",
      ">33, new best f([0.13092041015625, 4.21600341796875]) = -36.398015\n",
      ">34, new best f([0.1300048828125, 4.2169189453125]) = -36.398199\n",
      ">35, new best f([0.1300048828125, 4.217376708984375]) = -36.398293\n",
      ">46, new best f([0.13275146484375, 4.218292236328125]) = -36.398416\n",
      ">48, new best f([0.132293701171875, 4.218292236328125]) = -36.398444\n",
      ">53, new best f([0.1318359375, 4.218292236328125]) = -36.398464\n",
      ">79, new best f([0.1336669921875, 4.27642822265625]) = -36.403243\n",
      ">81, new best f([0.1336669921875, 4.275970458984375]) = -36.403257\n",
      ">83, new best f([0.1336669921875, 4.273223876953125]) = -36.403325\n",
      ">84, new best f([0.1336669921875, 4.27276611328125]) = -36.403333\n",
      ">85, new best f([0.1336669921875, 4.2718505859375]) = -36.403348\n",
      ">88, new best f([0.1318359375, 4.26544189453125]) = -36.403465\n",
      ">89, new best f([0.1318359375, 4.26910400390625]) = -36.403482\n",
      "Done!\n",
      "f([0.1318359375, 4.26910400390625]) = -36.403482\n"
     ]
    }
   ],
   "source": [
    "# crossover rate\n",
    "r_cross = 0.01\n",
    "\n",
    "# mutation rate\n",
    "r_mut = 1.0 / (float(n_bits) * len(bounds))\n",
    "\n",
    "best, score = genetic_algorithm(objective, bounds, n_bits, n_iter, n_pop, r_cross, r_mut)\n",
    "print('Done!')\n",
    "decoded = decode(bounds, n_bits, best)\n",
    "print('f(%s) = %f' % (decoded, score))"
   ]
  },
  {
   "cell_type": "code",
   "execution_count": 98,
   "metadata": {},
   "outputs": [
    {
     "name": "stdout",
     "output_type": "stream",
     "text": [
      ">0, new best f([4.387664794921875, -4.2755126953125]) = 26.452532\n",
      ">0, new best f([0.3717041015625, 8.565673828125]) = 2.170815\n",
      ">0, new best f([-4.653167724609375, -6.10565185546875]) = -11.889914\n",
      ">0, new best f([1.18743896484375, 2.118072509765625]) = -17.164456\n",
      ">1, new best f([-0.307159423828125, 3.847503662109375]) = -33.216172\n",
      ">2, new best f([-0.148773193359375, 4.995574951171875]) = -33.854998\n",
      ">3, new best f([0.14923095703125, 3.804931640625]) = -35.967967\n",
      "Done!\n",
      "f([0.14923095703125, 3.804931640625]) = -35.967967\n"
     ]
    }
   ],
   "source": [
    "# crossover rate\n",
    "r_cross = 0.9\n",
    "\n",
    "# mutation rate\n",
    "r_mut = 100.0 / (float(n_bits) * len(bounds))\n",
    "\n",
    "best, score = genetic_algorithm(objective, bounds, n_bits, n_iter, n_pop, r_cross, r_mut)\n",
    "print('Done!')\n",
    "decoded = decode(bounds, n_bits, best)\n",
    "print('f(%s) = %f' % (decoded, score))"
   ]
  }
 ],
 "metadata": {
  "kernelspec": {
   "display_name": "Python 3",
   "language": "python",
   "name": "python3"
  },
  "language_info": {
   "codemirror_mode": {
    "name": "ipython",
    "version": 3
   },
   "file_extension": ".py",
   "mimetype": "text/x-python",
   "name": "python",
   "nbconvert_exporter": "python",
   "pygments_lexer": "ipython3",
   "version": "3.8.5"
  },
  "vscode": {
   "interpreter": {
    "hash": "eeab3e71adb6dbd0e75fb9a8c9bdb5e7c4aba7cf3fd60c4dcf30c1777b01516d"
   }
  }
 },
 "nbformat": 4,
 "nbformat_minor": 2
}
